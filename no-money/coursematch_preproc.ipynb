{
 "cells": [
  {
   "cell_type": "code",
   "execution_count": 1,
   "id": "a6839511-e165-45d1-b517-85b07c0bc663",
   "metadata": {},
   "outputs": [],
   "source": [
    "import numpy as np\n",
    "import pandas as pd\n",
    "import pickle\n",
    "from players import Player\n",
    "import mechs\n",
    "import utilities\n",
    "import inequality\n",
    "np.set_printoptions(precision=3)\n",
    "from matplotlib import pyplot as plt\n",
    "from scipy import stats"
   ]
  },
  {
   "cell_type": "code",
   "execution_count": 2,
   "id": "8c4af502-d627-4461-bd99-18ee5fc2666b",
   "metadata": {},
   "outputs": [],
   "source": [
    "# open a file, where you stored the pickled data\n",
    "#classes = pd.read_excel('CMData/2015C/2015C.xlsx', names=['id'], usecols='A')\n",
    "#print(len(classes))"
   ]
  },
  {
   "cell_type": "code",
   "execution_count": 3,
   "id": "6f82ab66-272d-4c8a-8268-4eb26fe33c09",
   "metadata": {},
   "outputs": [],
   "source": [
    "students = pd.read_json('CMData/2015C/instance10.in', lines=True, nrows = 1)['students'][0]\n",
    "classes = pd.read_json('CMData/2015C/instance10.in', lines=True, nrows = 1)['classes'][0]"
   ]
  },
  {
   "cell_type": "code",
   "execution_count": 4,
   "id": "3d17d267-62a5-48a6-b4b8-1106c4982008",
   "metadata": {},
   "outputs": [
    {
     "name": "stdout",
     "output_type": "stream",
     "text": [
      "38\n"
     ]
    },
    {
     "name": "stderr",
     "output_type": "stream",
     "text": [
      "/tmp/ipykernel_4419/1572089420.py:16: VisibleDeprecationWarning: Creating an ndarray from ragged nested sequences (which is a list-or-tuple of lists-or-tuples-or ndarrays with different lengths or shapes) is deprecated. If you meant to do this, you must specify 'dtype=object' when creating the ndarray.\n",
      "  normed_utils = np.maximum(student['utils'], np.zeros((len(student['utils']), 2)))\n"
     ]
    }
   ],
   "source": [
    "util_matrix = {}\n",
    "n_students = 50\n",
    "actual_students = len(students)\n",
    "i = 0\n",
    "normalize = True\n",
    "\n",
    "for student in students[:n_students]:\n",
    "    for idx, preference in enumerate(student['utils']):\n",
    "        if len(preference) <= 2:\n",
    "            pass\n",
    "        else:\n",
    "            #print('Deleting: ' + str(preference))\n",
    "            del student['utils'][idx]\n",
    "    if normalize:\n",
    "        try:\n",
    "            normed_utils = np.maximum(student['utils'], np.zeros((len(student['utils']), 2)))\n",
    "            denom = np.sum(normed_utils[:,1])\n",
    "            normed_utils[:,1] *= (1. / denom)        \n",
    "            util_matrix[i] = {}\n",
    "            for pair in normed_utils:\n",
    "                util_matrix[i][pair[0]] = pair[1]\n",
    "            i = i + 1\n",
    "\n",
    "        except:\n",
    "            n_students -= 1\n",
    "    else:\n",
    "        util_matrix[i] = {}\n",
    "        for pair in student['utils']:\n",
    "            util_matrix[i][pair[0]] = max(pair[1], 0)\n",
    "        i = i + 1\n",
    "    \n",
    "df = pd.DataFrame(util_matrix)\n",
    "#n_classes = len(df)\n",
    "print(n_students)"
   ]
  },
  {
   "cell_type": "code",
   "execution_count": 5,
   "id": "2a889553-2dce-48e8-bb1b-a33a937045b6",
   "metadata": {},
   "outputs": [
    {
     "name": "stdout",
     "output_type": "stream",
     "text": [
      "38\n",
      "1674\n"
     ]
    }
   ],
   "source": [
    "n_classes = len(classes)\n",
    "print(n_students)\n",
    "print(actual_students)\n",
    "class_cons = np.empty((n_classes, n_students))\n",
    "for i, clas in enumerate(classes):\n",
    "\n",
    "    class_cons[i,:] = np.full((n_students), min(1,  (1. * actual_students) / (clas['capacity'] * n_students)))"
   ]
  },
  {
   "cell_type": "code",
   "execution_count": 6,
   "id": "99622581-69f3-425c-bdc1-f52d4074d25a",
   "metadata": {},
   "outputs": [],
   "source": [
    "#varying alpha against loss, gain, ratio, and inequality\n",
    "num_trials = 10\n",
    "var = 0.05\n",
    "alphas = np.arange(0.0,0.51, 0.05)\n",
    "constrained_lottery = True\n",
    "\n",
    "player_dict = {}\n",
    "for (player_id, utils) in df.iteritems():\n",
    "    player_dict[player_id] = Player(player_id, u_i = utils.values, c_i = 0.1, g = n_classes, n = n_students, U = df.to_numpy().T)"
   ]
  },
  {
   "cell_type": "code",
   "execution_count": 7,
   "id": "c68fee9e-7bbf-43cf-9a1e-2226b1dfd133",
   "metadata": {},
   "outputs": [
    {
     "name": "stdout",
     "output_type": "stream",
     "text": [
      "Alpha: 0.0\n"
     ]
    },
    {
     "ename": "KeyboardInterrupt",
     "evalue": "",
     "output_type": "error",
     "traceback": [
      "\u001b[0;31m---------------------------------------------------------------------------\u001b[0m",
      "\u001b[0;31mKeyboardInterrupt\u001b[0m                         Traceback (most recent call last)",
      "Input \u001b[0;32mIn [7]\u001b[0m, in \u001b[0;36m<cell line: 10>\u001b[0;34m()\u001b[0m\n\u001b[1;32m     23\u001b[0m \u001b[38;5;28;01mif\u001b[39;00m constrained_lottery:\n\u001b[1;32m     24\u001b[0m     alloc_u \u001b[38;5;241m=\u001b[39m mechs\u001b[38;5;241m.\u001b[39musw_u_classes(player_dict, n_classes, class_cons\u001b[38;5;241m.\u001b[39mT)\n\u001b[0;32m---> 25\u001b[0m     alloc_v \u001b[38;5;241m=\u001b[39m \u001b[43mmechs\u001b[49m\u001b[38;5;241;43m.\u001b[39;49m\u001b[43musw_v_classes\u001b[49m\u001b[43m(\u001b[49m\u001b[43mplayer_dict\u001b[49m\u001b[43m,\u001b[49m\u001b[43m \u001b[49m\u001b[43mn_classes\u001b[49m\u001b[43m,\u001b[49m\u001b[43m \u001b[49m\u001b[43mclass_cons\u001b[49m\u001b[38;5;241;43m.\u001b[39;49m\u001b[43mT\u001b[49m\u001b[43m)\u001b[49m\n\u001b[1;32m     26\u001b[0m \u001b[38;5;28;01melse\u001b[39;00m:\n\u001b[1;32m     27\u001b[0m     alloc_u \u001b[38;5;241m=\u001b[39m mechs\u001b[38;5;241m.\u001b[39musw(player_dict, n_classes)\n",
      "File \u001b[0;32m~/Dropbox/beaamo/divisible-items-mechs/no-money/mechs.py:118\u001b[0m, in \u001b[0;36musw_v_classes\u001b[0;34m(player_dict, num_goods, class_caps)\u001b[0m\n\u001b[1;32m    116\u001b[0m alloc \u001b[38;5;241m=\u001b[39m cp\u001b[38;5;241m.\u001b[39mVariable((num_agents, num_goods))\n\u001b[1;32m    117\u001b[0m c \u001b[38;5;241m=\u001b[39m np\u001b[38;5;241m.\u001b[39mmin([player_dict[key]\u001b[38;5;241m.\u001b[39mc \u001b[38;5;28;01mfor\u001b[39;00m key \u001b[38;5;129;01min\u001b[39;00m player_dict\u001b[38;5;241m.\u001b[39mkeys()])\n\u001b[0;32m--> 118\u001b[0m maxprob \u001b[38;5;241m=\u001b[39m cp\u001b[38;5;241m.\u001b[39mMaximize(cp\u001b[38;5;241m.\u001b[39msum([player_dict[key]\u001b[38;5;241m.\u001b[39mv_cp(alloc) \u001b[38;5;28;01mfor\u001b[39;00m i, key \u001b[38;5;129;01min\u001b[39;00m \u001b[38;5;28menumerate\u001b[39m(\u001b[38;5;28mlist\u001b[39m(player_dict\u001b[38;5;241m.\u001b[39mkeys()))]))\n\u001b[1;32m    119\u001b[0m constraints \u001b[38;5;241m=\u001b[39m [alloc \u001b[38;5;241m>\u001b[39m\u001b[38;5;241m=\u001b[39m \u001b[38;5;241m0\u001b[39m] \u001b[38;5;241m+\u001b[39m [cp\u001b[38;5;241m.\u001b[39msum(alloc[:, j]) \u001b[38;5;241m<\u001b[39m\u001b[38;5;241m=\u001b[39m \u001b[38;5;241m1\u001b[39m \u001b[38;5;28;01mfor\u001b[39;00m j \u001b[38;5;129;01min\u001b[39;00m \u001b[38;5;28mrange\u001b[39m(num_goods)] \u001b[38;5;241m+\u001b[39m [alloc \u001b[38;5;241m<\u001b[39m\u001b[38;5;241m=\u001b[39m class_caps]\n\u001b[1;32m    120\u001b[0m prob \u001b[38;5;241m=\u001b[39m cp\u001b[38;5;241m.\u001b[39mProblem(maxprob, constraints)\n",
      "File \u001b[0;32m~/Dropbox/beaamo/divisible-items-mechs/no-money/mechs.py:118\u001b[0m, in \u001b[0;36m<listcomp>\u001b[0;34m(.0)\u001b[0m\n\u001b[1;32m    116\u001b[0m alloc \u001b[38;5;241m=\u001b[39m cp\u001b[38;5;241m.\u001b[39mVariable((num_agents, num_goods))\n\u001b[1;32m    117\u001b[0m c \u001b[38;5;241m=\u001b[39m np\u001b[38;5;241m.\u001b[39mmin([player_dict[key]\u001b[38;5;241m.\u001b[39mc \u001b[38;5;28;01mfor\u001b[39;00m key \u001b[38;5;129;01min\u001b[39;00m player_dict\u001b[38;5;241m.\u001b[39mkeys()])\n\u001b[0;32m--> 118\u001b[0m maxprob \u001b[38;5;241m=\u001b[39m cp\u001b[38;5;241m.\u001b[39mMaximize(cp\u001b[38;5;241m.\u001b[39msum([\u001b[43mplayer_dict\u001b[49m\u001b[43m[\u001b[49m\u001b[43mkey\u001b[49m\u001b[43m]\u001b[49m\u001b[38;5;241;43m.\u001b[39;49m\u001b[43mv_cp\u001b[49m\u001b[43m(\u001b[49m\u001b[43malloc\u001b[49m\u001b[43m)\u001b[49m \u001b[38;5;28;01mfor\u001b[39;00m i, key \u001b[38;5;129;01min\u001b[39;00m \u001b[38;5;28menumerate\u001b[39m(\u001b[38;5;28mlist\u001b[39m(player_dict\u001b[38;5;241m.\u001b[39mkeys()))]))\n\u001b[1;32m    119\u001b[0m constraints \u001b[38;5;241m=\u001b[39m [alloc \u001b[38;5;241m>\u001b[39m\u001b[38;5;241m=\u001b[39m \u001b[38;5;241m0\u001b[39m] \u001b[38;5;241m+\u001b[39m [cp\u001b[38;5;241m.\u001b[39msum(alloc[:, j]) \u001b[38;5;241m<\u001b[39m\u001b[38;5;241m=\u001b[39m \u001b[38;5;241m1\u001b[39m \u001b[38;5;28;01mfor\u001b[39;00m j \u001b[38;5;129;01min\u001b[39;00m \u001b[38;5;28mrange\u001b[39m(num_goods)] \u001b[38;5;241m+\u001b[39m [alloc \u001b[38;5;241m<\u001b[39m\u001b[38;5;241m=\u001b[39m class_caps]\n\u001b[1;32m    120\u001b[0m prob \u001b[38;5;241m=\u001b[39m cp\u001b[38;5;241m.\u001b[39mProblem(maxprob, constraints)\n",
      "File \u001b[0;32m~/Dropbox/beaamo/divisible-items-mechs/no-money/players.py:22\u001b[0m, in \u001b[0;36mPlayer.__init__.<locals>.<lambda>\u001b[0;34m(x)\u001b[0m\n\u001b[1;32m     20\u001b[0m             \u001b[38;5;28mself\u001b[39m\u001b[38;5;241m.\u001b[39mu_i \u001b[38;5;241m=\u001b[39m u_i\n\u001b[1;32m     21\u001b[0m             \u001b[38;5;28mself\u001b[39m\u001b[38;5;241m.\u001b[39mu \u001b[38;5;241m=\u001b[39m \u001b[38;5;28;01mlambda\u001b[39;00m x : np\u001b[38;5;241m.\u001b[39mdot(x, u_i)\n\u001b[0;32m---> 22\u001b[0m             \u001b[38;5;28mself\u001b[39m\u001b[38;5;241m.\u001b[39mv_cp \u001b[38;5;241m=\u001b[39m \u001b[38;5;28;01mlambda\u001b[39;00m x : np\u001b[38;5;241m.\u001b[39marray(u_i) \u001b[38;5;241m@\u001b[39m x[\u001b[38;5;28mself\u001b[39m\u001b[38;5;241m.\u001b[39mid] \u001b[38;5;241m-\u001b[39m ((\u001b[38;5;28mself\u001b[39m\u001b[38;5;241m.\u001b[39mc \u001b[38;5;241m/\u001b[39m ((n \u001b[38;5;241m-\u001b[39m \u001b[38;5;241m1.\u001b[39m))) \u001b[38;5;241m*\u001b[39m cp\u001b[38;5;241m.\u001b[39msum([cp\u001b[38;5;241m.\u001b[39mabs(np\u001b[38;5;241m.\u001b[39marray(u_i) \u001b[38;5;241m@\u001b[39m x[identifier] \u001b[38;5;241m-\u001b[39m np\u001b[38;5;241m.\u001b[39marray(U[k]) \u001b[38;5;241m@\u001b[39m x[k]) \u001b[38;5;28;01mfor\u001b[39;00m k \u001b[38;5;129;01min\u001b[39;00m \u001b[38;5;28mrange\u001b[39m(n)]))\n\u001b[1;32m     23\u001b[0m \u001b[38;5;66;03m#            self.v_cp = lambda x : np.array(u_i) @ x[identifier] - ((self.c / (n - 1.)) * cp.sum([cp.abs(np.array(u_i) @ x[identifier] - np.array(U[k]) @ x[k]) for k in range(n)]))\u001b[39;00m\n\u001b[1;32m     24\u001b[0m             \u001b[38;5;28mself\u001b[39m\u001b[38;5;241m.\u001b[39mv_np \u001b[38;5;241m=\u001b[39m \u001b[38;5;28;01mlambda\u001b[39;00m x : np\u001b[38;5;241m.\u001b[39mdot(u_i, x[\u001b[38;5;28mself\u001b[39m\u001b[38;5;241m.\u001b[39mid]) \u001b[38;5;241m-\u001b[39m ((\u001b[38;5;28mself\u001b[39m\u001b[38;5;241m.\u001b[39mc \u001b[38;5;241m/\u001b[39m ((n \u001b[38;5;241m-\u001b[39m \u001b[38;5;241m1.\u001b[39m))) \u001b[38;5;241m*\u001b[39m np\u001b[38;5;241m.\u001b[39msum([np\u001b[38;5;241m.\u001b[39mabs(np\u001b[38;5;241m.\u001b[39mdot(u_i, x[\u001b[38;5;28mself\u001b[39m\u001b[38;5;241m.\u001b[39mid]) \u001b[38;5;241m-\u001b[39m np\u001b[38;5;241m.\u001b[39mdot(U[k], x[k])) \u001b[38;5;28;01mfor\u001b[39;00m k \u001b[38;5;129;01min\u001b[39;00m \u001b[38;5;28mrange\u001b[39m(n)]))\n",
      "File \u001b[0;32m~/Dropbox/beaamo/divisible-items-mechs/no-money/players.py:22\u001b[0m, in \u001b[0;36m<listcomp>\u001b[0;34m(.0)\u001b[0m\n\u001b[1;32m     20\u001b[0m             \u001b[38;5;28mself\u001b[39m\u001b[38;5;241m.\u001b[39mu_i \u001b[38;5;241m=\u001b[39m u_i\n\u001b[1;32m     21\u001b[0m             \u001b[38;5;28mself\u001b[39m\u001b[38;5;241m.\u001b[39mu \u001b[38;5;241m=\u001b[39m \u001b[38;5;28;01mlambda\u001b[39;00m x : np\u001b[38;5;241m.\u001b[39mdot(x, u_i)\n\u001b[0;32m---> 22\u001b[0m             \u001b[38;5;28mself\u001b[39m\u001b[38;5;241m.\u001b[39mv_cp \u001b[38;5;241m=\u001b[39m \u001b[38;5;28;01mlambda\u001b[39;00m x : np\u001b[38;5;241m.\u001b[39marray(u_i) \u001b[38;5;241m@\u001b[39m x[\u001b[38;5;28mself\u001b[39m\u001b[38;5;241m.\u001b[39mid] \u001b[38;5;241m-\u001b[39m ((\u001b[38;5;28mself\u001b[39m\u001b[38;5;241m.\u001b[39mc \u001b[38;5;241m/\u001b[39m ((n \u001b[38;5;241m-\u001b[39m \u001b[38;5;241m1.\u001b[39m))) \u001b[38;5;241m*\u001b[39m cp\u001b[38;5;241m.\u001b[39msum([cp\u001b[38;5;241m.\u001b[39mabs(np\u001b[38;5;241m.\u001b[39marray(u_i) \u001b[38;5;241m@\u001b[39m \u001b[43mx\u001b[49m\u001b[43m[\u001b[49m\u001b[43midentifier\u001b[49m\u001b[43m]\u001b[49m \u001b[38;5;241m-\u001b[39m np\u001b[38;5;241m.\u001b[39marray(U[k]) \u001b[38;5;241m@\u001b[39m x[k]) \u001b[38;5;28;01mfor\u001b[39;00m k \u001b[38;5;129;01min\u001b[39;00m \u001b[38;5;28mrange\u001b[39m(n)]))\n\u001b[1;32m     23\u001b[0m \u001b[38;5;66;03m#            self.v_cp = lambda x : np.array(u_i) @ x[identifier] - ((self.c / (n - 1.)) * cp.sum([cp.abs(np.array(u_i) @ x[identifier] - np.array(U[k]) @ x[k]) for k in range(n)]))\u001b[39;00m\n\u001b[1;32m     24\u001b[0m             \u001b[38;5;28mself\u001b[39m\u001b[38;5;241m.\u001b[39mv_np \u001b[38;5;241m=\u001b[39m \u001b[38;5;28;01mlambda\u001b[39;00m x : np\u001b[38;5;241m.\u001b[39mdot(u_i, x[\u001b[38;5;28mself\u001b[39m\u001b[38;5;241m.\u001b[39mid]) \u001b[38;5;241m-\u001b[39m ((\u001b[38;5;28mself\u001b[39m\u001b[38;5;241m.\u001b[39mc \u001b[38;5;241m/\u001b[39m ((n \u001b[38;5;241m-\u001b[39m \u001b[38;5;241m1.\u001b[39m))) \u001b[38;5;241m*\u001b[39m np\u001b[38;5;241m.\u001b[39msum([np\u001b[38;5;241m.\u001b[39mabs(np\u001b[38;5;241m.\u001b[39mdot(u_i, x[\u001b[38;5;28mself\u001b[39m\u001b[38;5;241m.\u001b[39mid]) \u001b[38;5;241m-\u001b[39m np\u001b[38;5;241m.\u001b[39mdot(U[k], x[k])) \u001b[38;5;28;01mfor\u001b[39;00m k \u001b[38;5;129;01min\u001b[39;00m \u001b[38;5;28mrange\u001b[39m(n)]))\n",
      "File \u001b[0;32m/usr/local/lib/python3.10/dist-packages/cvxpy/expressions/expression.py:450\u001b[0m, in \u001b[0;36mExpression.__getitem__\u001b[0;34m(self, key)\u001b[0m\n\u001b[1;32m    448\u001b[0m \u001b[38;5;28;01mif\u001b[39;00m \u001b[38;5;28misinstance\u001b[39m(key, \u001b[38;5;28mtuple\u001b[39m) \u001b[38;5;129;01mand\u001b[39;00m \u001b[38;5;28mlen\u001b[39m(key) \u001b[38;5;241m==\u001b[39m \u001b[38;5;241m0\u001b[39m:\n\u001b[1;32m    449\u001b[0m     \u001b[38;5;28;01mreturn\u001b[39;00m \u001b[38;5;28mself\u001b[39m\n\u001b[0;32m--> 450\u001b[0m \u001b[38;5;28;01melif\u001b[39;00m \u001b[43mku\u001b[49m\u001b[38;5;241;43m.\u001b[39;49m\u001b[43mis_special_slice\u001b[49m\u001b[43m(\u001b[49m\u001b[43mkey\u001b[49m\u001b[43m)\u001b[49m:\n\u001b[1;32m    451\u001b[0m     \u001b[38;5;28;01mreturn\u001b[39;00m cvxtypes\u001b[38;5;241m.\u001b[39mspecial_index()(\u001b[38;5;28mself\u001b[39m, key)\n\u001b[1;32m    452\u001b[0m \u001b[38;5;28;01melse\u001b[39;00m:\n",
      "File \u001b[0;32m/usr/local/lib/python3.10/dist-packages/cvxpy/utilities/key_utils.py:200\u001b[0m, in \u001b[0;36mis_special_slice\u001b[0;34m(key)\u001b[0m\n\u001b[1;32m    195\u001b[0m     \u001b[38;5;124;03m\"\"\"Converts a key (i.e. two slices) into a string.\u001b[39;00m\n\u001b[1;32m    196\u001b[0m \u001b[38;5;124;03m    \"\"\"\u001b[39;00m\n\u001b[1;32m    197\u001b[0m     \u001b[38;5;28;01mreturn\u001b[39;00m \u001b[38;5;28mtuple\u001b[39m(slice_to_str(elem) \u001b[38;5;28;01mfor\u001b[39;00m elem \u001b[38;5;129;01min\u001b[39;00m key)\n\u001b[0;32m--> 200\u001b[0m \u001b[38;5;28;01mdef\u001b[39;00m \u001b[38;5;21mis_special_slice\u001b[39m(key) \u001b[38;5;241m-\u001b[39m\u001b[38;5;241m>\u001b[39m \u001b[38;5;28mbool\u001b[39m:\n\u001b[1;32m    201\u001b[0m     \u001b[38;5;124;03m\"\"\"Does the key contain a list, ndarray, or logical ndarray?\u001b[39;00m\n\u001b[1;32m    202\u001b[0m \u001b[38;5;124;03m    \"\"\"\u001b[39;00m\n\u001b[1;32m    203\u001b[0m     \u001b[38;5;66;03m# Slices and int-like numbers are fine.\u001b[39;00m\n",
      "\u001b[0;31mKeyboardInterrupt\u001b[0m: "
     ]
    }
   ],
   "source": [
    "alpha_trial_dict_allocv = {}\n",
    "alpha_trial_dict_alphas = {}\n",
    "alpha_trial_dict_allocu = {}\n",
    "alpha_trial_dict_inequality = {}\n",
    "\n",
    "\n",
    "\n",
    "#alloc = mechs.usw(player_dict, n_classes)\n",
    "\n",
    "for alpha in alphas:\n",
    "    print('Alpha: ' + str(alpha))\n",
    "    alpha_trial_dict_allocv[alpha] = []\n",
    "    alpha_trial_dict_allocu[alpha] = []\n",
    "    alpha_trial_dict_inequality[alpha] = []\n",
    "    alpha_trial_dict_alphas[alpha] = []\n",
    "    for trial in range(num_trials):\n",
    "        alpha_trial_dict_alphas[alpha].append([])\n",
    "        for idx, player in player_dict.items():\n",
    "            al = max(np.random.normal(alpha, var), 0.)\n",
    "            alpha_trial_dict_alphas[alpha][trial].append(al)\n",
    "            player.setc(al)\n",
    "            player_dict[idx] = player\n",
    "        if constrained_lottery:\n",
    "            alloc_u = mechs.usw_u_classes(player_dict, n_classes, class_cons.T)\n",
    "            alloc_v = mechs.usw_v_classes(player_dict, n_classes, class_cons.T)\n",
    "        else:\n",
    "            alloc_u = mechs.usw(player_dict, n_classes)\n",
    "            alloc_v = mechs.usw_v(player_dict, n_classes)\n",
    "        fs_v = inequality.FehrSchmidtIneq(player_dict, alloc_v)\n",
    "        #print(fs_v)\n",
    "        #print(mechs.compute_usw(player_dict, alloc_u))\n",
    "        #print(mechs.compute_usw(player_dict, alloc_v))\n",
    "        alpha_trial_dict_allocv[alpha].append(alloc_v)\n",
    "        alpha_trial_dict_allocu[alpha].append(alloc_u)\n",
    "        alpha_trial_dict_inequality[alpha].append(fs_v)"
   ]
  },
  {
   "cell_type": "code",
   "execution_count": 9,
   "id": "08b86c03-6be1-46a3-8bef-57d7be0ddbeb",
   "metadata": {},
   "outputs": [],
   "source": [
    "#with open('pickles/alpha_trial_dict_inequality_classconstraints.pickle', 'wb') as handle:\n",
    "#    pickle.dump(alpha_trial_dict_inequality, handle, protocol=pickle.HIGHEST_PROTOCOL)\n",
    "    \n",
    "#with open('pickles/alpha_trial_dict_allocv_classconstraints.pickle', 'wb') as handle:\n",
    "#    pickle.dump(alpha_trial_dict_allocv, handle, protocol=pickle.HIGHEST_PROTOCOL)\n",
    "    \n",
    "#with open('pickles/alpha_trial_dict_allocu_classconstraints.pickle', 'wb') as handle:\n",
    "#    pickle.dump(alpha_trial_dict_allocu, handle, protocol=pickle.HIGHEST_PROTOCOL)\n",
    "    \n",
    "#with open('pickles/alpha_trial_dict_alphas_classconstraints.pickle', 'wb') as handle:\n",
    "#    pickle.dump(alpha_trial_dict_alphas, handle, protocol=pickle.HIGHEST_PROTOCOL)\n",
    "    \n",
    "\n"
   ]
  },
  {
   "cell_type": "code",
   "execution_count": 7,
   "id": "003c447b-e4ab-4ccb-83d2-5f2bfef5b2ce",
   "metadata": {},
   "outputs": [
    {
     "ename": "FileNotFoundError",
     "evalue": "[Errno 2] No such file or directory: 'pickles/alpha_trial_dict_inequality_classconstraints.pickle'",
     "output_type": "error",
     "traceback": [
      "\u001b[0;31m---------------------------------------------------------------------------\u001b[0m",
      "\u001b[0;31mFileNotFoundError\u001b[0m                         Traceback (most recent call last)",
      "Input \u001b[0;32mIn [7]\u001b[0m, in \u001b[0;36m<cell line: 1>\u001b[0;34m()\u001b[0m\n\u001b[0;32m----> 1\u001b[0m \u001b[38;5;28;01mwith\u001b[39;00m \u001b[38;5;28;43mopen\u001b[39;49m\u001b[43m(\u001b[49m\u001b[38;5;124;43m'\u001b[39;49m\u001b[38;5;124;43mpickles/alpha_trial_dict_inequality_classconstraints.pickle\u001b[39;49m\u001b[38;5;124;43m'\u001b[39;49m\u001b[43m,\u001b[49m\u001b[43m \u001b[49m\u001b[38;5;124;43m'\u001b[39;49m\u001b[38;5;124;43mrb\u001b[39;49m\u001b[38;5;124;43m'\u001b[39;49m\u001b[43m)\u001b[49m \u001b[38;5;28;01mas\u001b[39;00m handle:\n\u001b[1;32m      2\u001b[0m     alpha_trial_dict_inequality \u001b[38;5;241m=\u001b[39m pickle\u001b[38;5;241m.\u001b[39mload(handle)\n\u001b[1;32m      4\u001b[0m \u001b[38;5;28;01mwith\u001b[39;00m \u001b[38;5;28mopen\u001b[39m(\u001b[38;5;124m'\u001b[39m\u001b[38;5;124mpickles/alpha_trial_dict_allocv_classconstraints.pickle\u001b[39m\u001b[38;5;124m'\u001b[39m, \u001b[38;5;124m'\u001b[39m\u001b[38;5;124mrb\u001b[39m\u001b[38;5;124m'\u001b[39m) \u001b[38;5;28;01mas\u001b[39;00m handle:\n",
      "\u001b[0;31mFileNotFoundError\u001b[0m: [Errno 2] No such file or directory: 'pickles/alpha_trial_dict_inequality_classconstraints.pickle'"
     ]
    }
   ],
   "source": [
    "with open('pickles/alpha_trial_dict_inequality_classconstraints.pickle', 'rb') as handle:\n",
    "    alpha_trial_dict_inequality = pickle.load(handle)\n",
    "    \n",
    "with open('pickles/alpha_trial_dict_allocv_classconstraints.pickle', 'rb') as handle:\n",
    "    alpha_trial_dict_allocv = pickle.load(handle)\n",
    "    \n",
    "with open('pickles/alpha_trial_dict_allocu_classconstraints.pickle', 'rb') as handle:\n",
    "    alpha_trial_dict_allocu = pickle.load(handle)\n",
    "    \n",
    "with open('pickles/alpha_trial_dict_alphas_classconstraints.pickle', 'rb') as handle:\n",
    "    alpha_trial_dict_alphas = pickle.load(handle)"
   ]
  },
  {
   "cell_type": "code",
   "execution_count": 20,
   "id": "d1fb1e03-0d0e-49dc-a076-ece0c851092d",
   "metadata": {},
   "outputs": [
    {
     "name": "stdout",
     "output_type": "stream",
     "text": [
      "[0.   0.05 0.1  0.15 0.2  0.25 0.3  0.35 0.4  0.45 0.5 ]\n",
      "[7.596726795877677, 7.56114116701025, 7.209270010170352, 6.446343392807973, 5.597375760213579, 4.324168038467087, 3.435873557849642, 2.8918421796131133, 2.509702902677207, 1.5709849786883823, 1.0909989019730797]\n",
      "[0.013294292845804998, 0.009559746108979885, 0.05265533933316835, 0.11607971259013587, 0.10443140333624604, 0.12089489998633425, 0.09000828887666326, 0.03374933484810804, 0.07541181502994339, 0.12101215185238855, 0.059130476349126354]\n"
     ]
    },
    {
     "data": {
      "image/png": "[encoded data removed]",
      "text/plain": [
       "<Figure size 432x288 with 1 Axes>"
      ]
     },
     "metadata": {
      "needs_background": "light"
     },
     "output_type": "display_data"
    },
    {
     "name": "stdout",
     "output_type": "stream",
     "text": [
      "0.9800708112770851\n"
     ]
    }
   ],
   "source": [
    "print(alphas)\n",
    "y = [np.mean(x) for x in alpha_trial_dict_inequality.values()]\n",
    "print(y)\n",
    "\n",
    "#some confidence interval\n",
    "ci = [1.96 * np.std(why)/np.sqrt(len(why)) for why in alpha_trial_dict_inequality.values()]\n",
    "print(ci)\n",
    "\n",
    "slope, intercept, r_value, p_value, std_err = stats.linregress(alphas, y)\n",
    "plt.plot(alphas, y, 'bo-')\n",
    "plt.fill_between(alphas, ([y[i] - ci[i] for i in range(len(y))]), ([y[i] + ci[i] for i in range(len(y))]), color='b', alpha=.1)\n",
    "\n",
    "mn=np.min(alphas)\n",
    "mx=np.max(alphas)\n",
    "x1=np.linspace(mn,mx,500)\n",
    "y1=slope*x1+intercept\n",
    "plt.plot(x1,y1,'--r',alpha=0.6)\n",
    "plt.title('Effect of $\\\\alpha$ on $I(x^\\\\alpha)$')\n",
    "plt.xlabel('$\\\\mu : \\\\alpha_i \\\\sim \\\\mathcal{N}(\\\\mu, 0.05)$')\n",
    "plt.ylabel('$I(x^\\\\alpha)$')\n",
    "plt.show()\n",
    "print(r_value ** 2)"
   ]
  },
  {
   "cell_type": "code",
   "execution_count": 18,
   "id": "29d97a20-d825-4d73-b3b3-13974891dbd4",
   "metadata": {},
   "outputs": [
    {
     "name": "stdout",
     "output_type": "stream",
     "text": [
      "[0.   0.05 0.1  0.15 0.2  0.25 0.3  0.35 0.4  0.45 0.5 ]\n",
      "{0.0: 10, 0.05: 10, 0.1: 10, 0.15000000000000002: 10, 0.2: 10, 0.25: 10, 0.30000000000000004: 10, 0.35000000000000003: 10, 0.4: 10, 0.45: 10, 0.5: 10}\n",
      "[0.0010467366976454943, 0.0033099854232811927, 0.038576619116639864, 0.14222634804514217, 0.29056536447105186, 0.5701611809923801, 0.8118891433657829, 0.9839962907488383, 1.1318249107919223, 1.5382751425894157, 1.7643478124074776]\n",
      "[0.0006676453992358977, 0.001501897099931893, 0.006923510789957462, 0.016962965487199586, 0.018066701541699596, 0.03177259842493377, 0.026736068028973936, 0.011514361657845808, 0.03125411058011102, 0.05451011907742351, 0.027801438262584317]\n"
     ]
    },
    {
     "data": {
      "image/png": "[encoded data removed]",
      "text/plain": [
       "<Figure size 432x288 with 1 Axes>"
      ]
     },
     "metadata": {
      "needs_background": "light"
     },
     "output_type": "display_data"
    },
    {
     "name": "stdout",
     "output_type": "stream",
     "text": [
      "[0.999]\n",
      "[ 5.678  0.878 -0.055]\n",
      "0.948232112761063\n"
     ]
    }
   ],
   "source": [
    "print(alphas)\n",
    "print({alpha: len(alpha_trial_dict_allocu[alpha]) for alpha in alphas})\n",
    "losses = {alpha: [inequality.loss(player_dict, alpha_trial_dict_allocu[alpha][i], alpha_trial_dict_allocv[alpha][i]) for i in range(len(alpha_trial_dict_allocu[alpha]))] for alpha in alphas}\n",
    "y = [np.mean(x) for x in losses.values()]\n",
    "print(y)\n",
    "#some confidence interval\n",
    "ci = [1.96 * np.std(why)/np.sqrt(len(why)) for why in losses.values()]\n",
    "print(ci)\n",
    "\n",
    "xlim = [min(alphas), max(alphas)]\n",
    "params, residuals, rank, singular_values, rcond = np.polyfit(alphas, y, 2, full=True)\n",
    "x_fitted = np.linspace(xlim[0], xlim[1], 100)\n",
    "y_fitted = params[2] + x_fitted * params[1] + x_fitted**2 * params[0]\n",
    "plt.plot(x_fitted, y_fitted, 'r--',alpha=0.6)\n",
    "\n",
    "\n",
    "plt.plot(alphas, y, 'bo-')\n",
    "plt.fill_between(alphas, ([y[i] - ci[i] for i in range(len(y))]), ([y[i] + ci[i] for i in range(len(y))]), color='b', alpha=.1)\n",
    "\n",
    "\n",
    "plt.title('Effect of $\\\\alpha$ on loss')\n",
    "plt.xlabel('$\\\\mu : \\\\alpha_i \\\\sim \\\\mathcal{N}(\\\\mu, 0.05)$')\n",
    "plt.ylabel('$loss(\\\\alpha)$')\n",
    "plt.show()\n",
    "print(1 - residuals ** 2)\n",
    "print(params)\n",
    "slope, intercept, r_value, p_value, std_err = stats.linregress(alphas, y)\n",
    "print(r_value** 2)"
   ]
  },
  {
   "cell_type": "code",
   "execution_count": 19,
   "id": "f71d6f68-8f4d-42cb-b874-9b4c2eb576b8",
   "metadata": {},
   "outputs": [
    {
     "name": "stdout",
     "output_type": "stream",
     "text": [
      "[0.   0.05 0.1  0.15 0.2  0.25 0.3  0.35 0.4  0.45 0.5 ]\n",
      "[0.0017267463520857617, 0.006227685233193192, 0.017350460288659875, 0.057919319005776335, 0.11704985386049334, 0.26567280766973733, 0.47982208857668257, 0.6933029874144008, 0.9427536393453092, 1.251399707256787, 1.5414862712405812]\n"
     ]
    },
    {
     "data": {
      "image/png": "[encoded data removed]",
      "text/plain": [
       "<Figure size 432x288 with 1 Axes>"
      ]
     },
     "metadata": {
      "needs_background": "light"
     },
     "output_type": "display_data"
    },
    {
     "name": "stdout",
     "output_type": "stream",
     "text": [
      "[1.]\n",
      "[ 8.018 -0.902  0.012]\n",
      "0.883883875267335\n"
     ]
    }
   ],
   "source": [
    "print(alphas)\n",
    "#print(alpha_trial_dict_allocu)\n",
    "gains = {alpha: [inequality.gain(player_dict, alpha_trial_dict_allocu[alpha][i], alpha_trial_dict_allocv[alpha][i], alpha_trial_dict_alphas[alpha][i]) for i in range(len(alpha_trial_dict_allocv[alpha]))] for alpha in alphas}\n",
    "#print([x for x in gains.values()])\n",
    "y = [np.mean(x) for x in gains.values()]\n",
    "print(y)\n",
    "\n",
    "xlim = [min(alphas), max(alphas)]\n",
    "params, residuals, rank, singular_values, rcond = np.polyfit(alphas, y, 2, full=True)\n",
    "x_fitted = np.linspace(xlim[0], xlim[1], 100)\n",
    "y_fitted = params[2] + x_fitted * params[1] + x_fitted**2 * params[0]\n",
    "plt.plot(x_fitted, y_fitted, 'r--',alpha=0.6)\n",
    "\n",
    "\n",
    "#confidence interval\n",
    "ci = [1.96 * np.std(why)/np.sqrt(len(why)) for why in gains.values()]\n",
    "\n",
    "\n",
    "plt.plot(alphas, y, 'bo-')\n",
    "plt.fill_between(alphas, ([y[i] - ci[i] for i in range(len(y))]), ([y[i] + ci[i] for i in range(len(y))]), color='b', alpha=.1)\n",
    "plt.title('Effect of $\\\\alpha$ on gain')\n",
    "plt.xlabel('$\\\\mu : \\\\alpha_i \\\\sim \\\\mathcal{N}(\\\\mu, 0.05)$')\n",
    "plt.ylabel('$gain(\\\\alpha)$')\n",
    "plt.show()\n",
    "\n",
    "print(1 - residuals ** 2)\n",
    "print(params)\n",
    "slope, intercept, r_value, p_value, std_err = stats.linregress(alphas, y)\n",
    "print(r_value** 2)"
   ]
  },
  {
   "cell_type": "code",
   "execution_count": 21,
   "id": "6f8780c6-58a9-4c12-bc81-d6671aa63be8",
   "metadata": {},
   "outputs": [
    {
     "name": "stdout",
     "output_type": "stream",
     "text": [
      "[0.   0.05 0.1  0.15 0.2  0.25 0.3  0.35 0.4  0.45 0.5 ]\n",
      "[5.151310130599823, 2.5226356710229214, 0.46523890683736074, 0.41087949409821994, 0.4007021176913816, 0.46725533299237954, 0.591084101209808, 0.704342705941739, 0.8334275780894007, 0.8152447690457804, 0.8738768369914693]\n",
      "[3.3669260812133586, 0.7136056923098163, 0.0725849110337678, 0.04042968697859785, 0.02677510393657965, 0.024274895420637935, 0.014485753378029403, 0.012912488282639266, 0.01630164005642993, 0.02403759135659837, 0.01608234480548886]\n"
     ]
    },
    {
     "data": {
      "image/png": "[encoded data removed]",
      "text/plain": [
       "<Figure size 432x288 with 1 Axes>"
      ]
     },
     "metadata": {
      "needs_background": "light"
     },
     "output_type": "display_data"
    }
   ],
   "source": [
    "print(alphas)\n",
    "#print(alpha_trial_dict_allocu)\n",
    "losses = {alpha: [inequality.loss(player_dict, alpha_trial_dict_allocu[alpha][i], alpha_trial_dict_allocv[alpha][i]) for i in range(len(alpha_trial_dict_allocv[alpha]))] for alpha in alphas}\n",
    "gains = {alpha: [inequality.gain(player_dict, alpha_trial_dict_allocu[alpha][i], alpha_trial_dict_allocv[alpha][i], alpha_trial_dict_alphas[alpha][i]) for i in range(len(alpha_trial_dict_allocv[alpha]))] for alpha in alphas}\n",
    "plotter = [[gains[x][i] / losses[x][i] for i in range(len(gains[x]))] for x in losses.keys()]\n",
    "\n",
    "y = [np.mean(val) for val in plotter]\n",
    "print(y)\n",
    "\n",
    "#confidence interval\n",
    "ci = [1.96 * np.std(why)/np.sqrt(len(why)) for why in plotter]\n",
    "print(ci)\n",
    "\n",
    "plt.plot(alphas, y, 'bo-')\n",
    "plt.fill_between(alphas, ([y[i] - ci[i] for i in range(len(y))]), ([y[i] + ci[i] for i in range(len(y))]), color='b', alpha=.1)\n",
    "plt.title('Effect of $\\\\alpha$ on gain-to-loss ratio')\n",
    "plt.xlabel('$\\\\mu : \\\\alpha_i \\\\sim \\\\mathcal{N}(\\\\mu, 0.05)$')\n",
    "plt.ylabel('$gain(\\\\alpha) / loss(\\\\alpha)$')\n",
    "plt.show()"
   ]
  },
  {
   "cell_type": "code",
   "execution_count": 22,
   "id": "f8725ac9-caec-46a5-b22e-121cda7dae91",
   "metadata": {},
   "outputs": [
    {
     "name": "stdout",
     "output_type": "stream",
     "text": [
      "[0.   0.05 0.1  0.15 0.2  0.25 0.3  0.35 0.4  0.45 0.5 ]\n",
      "{0.0: 0.6323693785709232, 0.05: 0.942045300946545, 0.1: 1.4590877584186597, 0.15000000000000002: 2.3021597337964144, 0.2: 3.016810598611539, 0.25: 3.9757791985386093, 0.30000000000000004: 4.315229593769898, 0.35000000000000003: 4.636871137815899, 0.4: 4.814214392791183, 0.45: 5.2342110595900655, 0.5: 5.483488546854754}\n",
      "[0.6323693785709232, 0.942045300946545, 1.4590877584186597, 2.3021597337964144, 3.016810598611539, 3.9757791985386093, 4.315229593769898, 4.636871137815899, 4.814214392791183, 5.2342110595900655, 5.483488546854754]\n",
      "[0.13603370347861773, 0.14272065509600246, 0.10737381453529413, 0.13873578035833142, 0.13256325279441336, 0.06882040691392849, 0.05716432330828476, 0.023263574343499988, 0.04313210084054759, 0.04477218547867619, 0.01645619360945771]\n"
     ]
    },
    {
     "data": {
      "image/png": "[encoded data removed]",
      "text/plain": [
       "<Figure size 432x288 with 1 Axes>"
      ]
     },
     "metadata": {
      "needs_background": "light"
     },
     "output_type": "display_data"
    }
   ],
   "source": [
    "from itertools import chain\n",
    "from math import dist\n",
    "print(alphas)\n",
    "#print(list(chain(*alpha_trial_dict_allocu[0][0])))\n",
    "distances = {alpha: [dist(list(chain(*alpha_trial_dict_allocu[alpha][i])), list(chain(*alpha_trial_dict_allocv[alpha][i]))) for i in range(num_trials)] for alpha in alphas}\n",
    "print({alpha: np.mean(val) for alpha, val in distances.items()})\n",
    "\n",
    "y = [np.mean(val) for val in distances.values()]\n",
    "print(y)\n",
    "\n",
    "#some confidence interval\n",
    "ci = [1.96 * np.std(why)/np.sqrt(len(why)) for why in distances.values()]\n",
    "print(ci)\n",
    "\n",
    "\n",
    "plt.plot(alphas, y, 'bo-')\n",
    "plt.fill_between(alphas, ([y[i] - ci[i] for i in range(len(y))]), ([y[i] + ci[i] for i in range(len(y))]), color='b', alpha=.1)\n",
    "plt.title('Effect of $\\\\alpha$ on $d(x^*, x^\\\\alpha)$')\n",
    "plt.xlabel('$\\\\mu : \\\\alpha_i \\\\sim \\\\mathcal{N}(\\\\mu, 0.05)$')\n",
    "plt.ylabel('$d(x^*, x^\\\\alpha)$')\n",
    "plt.show()"
   ]
  },
  {
   "cell_type": "code",
   "execution_count": 7,
   "id": "51cc6de9-a55e-4d46-b772-443b978171d0",
   "metadata": {},
   "outputs": [
    {
     "name": "stdout",
     "output_type": "stream",
     "text": [
      "0.05\n",
      "1.2528786677991037\n",
      "1.334572488871938\n",
      "1.263157893901563\n",
      "1.263157893901331\n",
      "1.2631578938959582\n",
      "1.2631578939004553\n",
      "1.2631578939010235\n",
      "1.2631578938797465\n",
      "1.2631578939004673\n",
      "1.2631578938758268\n",
      "0.15\n",
      "1.2528786677991037\n",
      "1.334572489390831\n",
      "1.3345724893893558\n",
      "1.3345724893906163\n",
      "1.3345724893907451\n",
      "1.2854700846231584\n",
      "1.285470084627552\n",
      "1.3345724893853756\n",
      "1.3058100808899746\n",
      "1.338857053523269\n",
      "0.3\n",
      "1.2528786677991037\n",
      "1.3345724893920408\n",
      "1.3672286608901942\n",
      "1.4281056397476255\n",
      "1.4465786982561448\n",
      "1.4497663538394832\n",
      "1.499999999063428\n",
      "1.5817865684316723\n",
      "1.7470395750625494\n",
      "1.8297872328811575\n",
      "0.5\n",
      "1.2528786677991037\n",
      "1.5742548540561876\n",
      "1.5269461067273011\n",
      "1.6522988495116786\n",
      "1.6666666655733962\n",
      "1.8481548687219271\n",
      "2.090909090858587\n",
      "2.215053762059032\n",
      "2.718828696504998\n",
      "2.837451906263598\n",
      "1.0\n",
      "1.2528786677991037\n",
      "1.7366049983124316\n",
      "2.332496724681595\n",
      "2.8575404086258116\n",
      "2.7439302940890893\n",
      "2.671460029569623\n",
      "3.0652680633461666\n",
      "3.1159847632927646\n",
      "3.1789085384787357\n",
      "3.220534325823005\n"
     ]
    },
    {
     "name": "stderr",
     "output_type": "stream",
     "text": [
      "/tmp/ipykernel_4419/1349370729.py:91: UserWarning: Matplotlib is currently using agg, which is a non-GUI backend, so cannot show the figure.\n",
      "  plt.show()\n"
     ]
    }
   ],
   "source": [
    "def effect_prop_averse(player_dict, alpha_val, n, g, step=2): \n",
    "    data = {'prop cares': [], 'inequality tolerance': [],\\\n",
    "                'usw alloc u': [], 'usw alloc v': [], \\\n",
    "                'usw u': [], 'usw v': [], \\\n",
    "                'usw PoI' : [], \\\n",
    "                'usw max util loss' : [], \\\n",
    "                'usw xstar FS inequality' : [], 'usw xalpha FS inequality' : [] , 'loss' : [], 'gain': [], 'gain to loss' : [] }\n",
    "    \n",
    "    \n",
    "\n",
    "\n",
    "    for socialists in range(0,n+1, step):\n",
    "        data['prop cares'].append(float(socialists) / n)\n",
    "        alphas = [player.c for player in player_dict.values()]\n",
    "        data['inequality tolerance'].append(alphas)\n",
    "\n",
    "\n",
    "        for player in range(n):\n",
    "            player_dict[player].setc(0.)\n",
    "\n",
    "        for player in range(socialists):\n",
    "            player_dict[player].setc(max(np.random.normal(alpha_val, 0.02), 0.00001))\n",
    "\n",
    "        # standard allocation setting\n",
    "        alloc = mechs.usw(player_dict, g)\n",
    "        data['usw alloc u'].append([alloc])\n",
    "        data['usw xstar FS inequality'].append(inequality.FehrSchmidtIneq(player_dict, alloc))\n",
    "\n",
    "\n",
    "\n",
    "        # allocations with social preferences\n",
    "        v_alloc = mechs.usw_v(player_dict, g)\n",
    "        data['usw alloc v'].append([v_alloc])\n",
    "        data['usw xalpha FS inequality'].append(inequality.FehrSchmidtIneq(player_dict, v_alloc))\n",
    "\n",
    "\n",
    "        #compute max utility loss for any individual\n",
    "        it = utilities.max_util_loss(player_dict, alloc, v_alloc)\n",
    "        #print(it)\n",
    "        data['usw max util loss'].append(it)\n",
    "\n",
    "        #compute social welfare and price of inequality\n",
    "        usw_u = utilities.utilitariansocialwelfare(player_dict, alloc)\n",
    "        data['usw u'].append(usw_u)\n",
    "\n",
    "        usw_v = utilities.utilitariansocialwelfare(player_dict, v_alloc)\n",
    "        data['usw v'].append(usw_v)\n",
    "\n",
    "        data['usw PoI'].append(float(usw_v / usw_u))\n",
    "        \n",
    "        loss = inequality.loss(player_dict, alloc, v_alloc)\n",
    "        data['loss'].append(loss)\n",
    "        \n",
    "        gain = inequality.gain(player_dict, alloc, v_alloc,alphas=None)\n",
    "        data['gain'].append(gain)\n",
    "        \n",
    "        if socialists == 0:\n",
    "            data['gain to loss'].append(1.)\n",
    "        else:\n",
    "            data['gain to loss'].append(gain / (1.0 * loss))\n",
    "\n",
    "\n",
    "\n",
    "\n",
    "    df = pd.DataFrame(data=data)\n",
    "    return df\n",
    "\n",
    "dfs = {}\n",
    "alpha_vals = [0.05, 0.15, 0.3, 0.5, 1.]\n",
    "\n",
    "for av in alpha_vals:\n",
    "    print(av)\n",
    "    dfs[av] = effect_prop_averse(player_dict, av, n_students, n_classes, step=4)\n",
    "\n",
    "def plottyplot(dfs, alpha_vals, y, y_label, plot_title, filename,location='upper right'):\n",
    "    ## Printing plots! :upside down smiling face:\n",
    "    color_list = ['red', 'blue', 'black', 'orange', 'pink']\n",
    "    colors = {key: color_list[i] for i, key in enumerate(alpha_vals)}\n",
    "    label_list = ['$\\\\mu = $' + str(av)for av in alpha_vals]\n",
    "    labels = {key: label_list[i] for i, key in enumerate(alpha_vals)}\n",
    "    \n",
    "    plt.figure()\n",
    "    ax = dfs[alpha_vals[0]].plot(x='prop cares', y=y,kind='line', color=colors[alpha_vals[0]], ls='-', label=labels[alpha_vals[0]])\n",
    "\n",
    "    for av in alpha_vals[1:]:\n",
    "        dfs[av].plot(x='prop cares', y=y, ax=ax, kind='line', color=colors[av], ls='-', label=labels[av])\n",
    "        plt.title(plot_title)\n",
    "        plt.xlabel('Proportion $p$ of inequality-averse agents')\n",
    "        plt.ylabel(y_label)\n",
    "        plt.legend(loc=location)\n",
    "    plt.show()\n",
    "    plt.savefig(filename)\n",
    "\n",
    "plottyplot(dfs, alpha_vals, 'usw xalpha FS inequality', '$I(x^\\\\alpha)$', 'Effect of proportion of inequality-averse agents on $I(x^\\\\alpha)$', 'figs/coursematch/effect_propaverse_inequality.png',location='lower left')\n",
    "plottyplot(dfs, alpha_vals, 'loss', '$loss(\\\\alpha)$', 'Effect of proportion of inequality-averse agents on $loss(\\\\alpha)$', 'figs/coursematch/effect_propaverse_loss.png', location='upper left')\n",
    "plottyplot(dfs, alpha_vals, 'gain', '$gain(\\\\alpha)$', 'Effect of proportion of inequality-averse agents on $gain(\\\\alpha)$', 'figs/coursematch/effect_propaverse_gain.png', location='upper left')\n",
    "plottyplot(dfs, alpha_vals, 'gain to loss', '$gain-to-loss(\\\\alpha)$', 'Effect of proportion of inequality-averse agents on $gain:loss(\\\\alpha)$', 'figs/coursematch/effect_propaverse_glratio.png', location='upper right')\n",
    "plottyplot(dfs, alpha_vals, 'usw max util loss', '$IT(\\\\alpha)$', 'Effect of proportion of inequality-averse agents on $IT(\\\\alpha)$', 'figs/coursematch/effect_propaverse_it.png', location='upper left')\n",
    "    \n"
   ]
  },
  {
   "cell_type": "code",
   "execution_count": null,
   "id": "905b1dd5-0933-4787-a661-efc6af4de7d0",
   "metadata": {},
   "outputs": [],
   "source": [
    "with open('pickles/coursematch/propaverse.pickle', 'wb') as handle:\n",
    "    pickle.dump(dfs, handle, protocol=pickle.HIGHEST_PROTOCOL)"
   ]
  }
 ],
 "metadata": {
  "kernelspec": {
   "display_name": "Python 3 (ipykernel)",
   "language": "python",
   "name": "python3"
  },
  "language_info": {
   "codemirror_mode": {
    "name": "ipython",
    "version": 3
   },
   "file_extension": ".py",
   "mimetype": "text/x-python",
   "name": "python",
   "nbconvert_exporter": "python",
   "pygments_lexer": "ipython3",
   "version": "3.10.6"
  }
 },
 "nbformat": 4,
 "nbformat_minor": 5
}
