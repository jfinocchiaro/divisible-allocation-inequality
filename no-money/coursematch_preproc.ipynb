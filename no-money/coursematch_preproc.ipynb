{
 "cells": [
  {
   "cell_type": "code",
   "execution_count": 1,
   "id": "a6839511-e165-45d1-b517-85b07c0bc663",
   "metadata": {},
   "outputs": [],
   "source": [
    "import numpy as np\n",
    "#import pickle as pkl\n",
    "import pandas as pd\n",
    "from players import Player\n",
    "import mechs\n",
    "import inequality\n",
    "np.set_printoptions(precision=2)"
   ]
  },
  {
   "cell_type": "code",
   "execution_count": 2,
   "id": "8c4af502-d627-4461-bd99-18ee5fc2666b",
   "metadata": {},
   "outputs": [],
   "source": [
    "# open a file, where you stored the pickled data\n",
    "classes = pd.read_excel('CMData/2015C/2015C.xlsx', names=['id'], usecols='A')\n",
    "#print(classes)"
   ]
  },
  {
   "cell_type": "code",
   "execution_count": 3,
   "id": "6f82ab66-272d-4c8a-8268-4eb26fe33c09",
   "metadata": {},
   "outputs": [],
   "source": [
    "students = pd.read_json('CMData/2015C/instance10.in', lines=True, nrows = 1)['students'][0]"
   ]
  },
  {
   "cell_type": "code",
   "execution_count": 20,
   "id": "3d17d267-62a5-48a6-b4b8-1106c4982008",
   "metadata": {},
   "outputs": [
    {
     "name": "stdout",
     "output_type": "stream",
     "text": [
      "Deleting: [1439, 1572, 100]\n",
      "Deleting: [1478, 1570, -20]\n",
      "Deleting: [1535, 1542, 200]\n",
      "Deleting: [1454, 1516, -2000]\n",
      "48\n",
      "dict_keys([0, 1, 2, 3, 4, 5, 6, 7, 8, 9, 10, 11, 12, 13, 14, 15, 16, 17, 18, 19, 20, 21, 22, 23, 24, 25, 26, 27, 28, 29, 30, 31, 32, 33, 34, 35, 36, 37, 38, 39, 40, 41, 42, 43, 44, 45, 46, 47])\n"
     ]
    },
    {
     "name": "stderr",
     "output_type": "stream",
     "text": [
      "/tmp/ipykernel_12402/1837074343.py:15: VisibleDeprecationWarning: Creating an ndarray from ragged nested sequences (which is a list-or-tuple of lists-or-tuples-or ndarrays with different lengths or shapes) is deprecated. If you meant to do this, you must specify 'dtype=object' when creating the ndarray.\n",
      "  normed_utils = np.maximum(student['utils'], np.zeros((len(student['utils']), 2)))\n"
     ]
    }
   ],
   "source": [
    "util_matrix = {}\n",
    "n_students = 50\n",
    "i = 0\n",
    "normalize = True\n",
    "\n",
    "for student in students[:n_students]:\n",
    "    for idx, preference in enumerate(student['utils']):\n",
    "        if len(preference) <= 2:\n",
    "            pass\n",
    "        else:\n",
    "            print('Deleting: ' + str(preference))\n",
    "            del student['utils'][idx]\n",
    "    if normalize:\n",
    "        try:\n",
    "            normed_utils = np.maximum(student['utils'], np.zeros((len(student['utils']), 2)))\n",
    "            denom = np.sum(normed_utils[:,1])\n",
    "            normed_utils[:,1] *= (1. / denom)        \n",
    "            util_matrix[i] = {}\n",
    "            for pair in normed_utils:\n",
    "                util_matrix[i][pair[0]] = pair[1]\n",
    "            i = i + 1\n",
    "\n",
    "        except:\n",
    "            n_students -= 1\n",
    "    else:\n",
    "        util_matrix[i] = {}\n",
    "        for pair in student['utils']:\n",
    "            util_matrix[i][pair[0]] = max(pair[1], 0)\n",
    "        i = i + 1\n",
    "    \n",
    "df = pd.DataFrame(util_matrix)\n",
    "n_classes = len(df)\n",
    "print(n_students)"
   ]
  },
  {
   "cell_type": "code",
   "execution_count": 21,
   "id": "99622581-69f3-425c-bdc1-f52d4074d25a",
   "metadata": {},
   "outputs": [
    {
     "name": "stdout",
     "output_type": "stream",
     "text": [
      "48\n"
     ]
    }
   ],
   "source": [
    "player_dict = {}\n",
    "for (player_id, utils) in df.iteritems():\n",
    "    player_dict[player_id] = Player(player_id, u_i = utils.values, c_i = 0.1, g = n_classes, n = n_students, U = df.to_numpy().T)\n",
    "\n",
    "alloc = mechs.usw(player_dict, n_classes)\n",
    "alloc_v = mechs.usw_v(player_dict, n_classes)"
   ]
  },
  {
   "cell_type": "code",
   "execution_count": 22,
   "id": "8524e524-1bd8-4056-aa7c-47509be3e8d8",
   "metadata": {},
   "outputs": [
    {
     "name": "stdout",
     "output_type": "stream",
     "text": [
      "12.971287097851594\n",
      "11.18488104799535\n"
     ]
    }
   ],
   "source": [
    "fs_u = inequality.FehrSchmidtIneq(player_dict, alloc)\n",
    "fs_v = inequality.FehrSchmidtIneq(player_dict, alloc_v)\n",
    "print(fs_u)\n",
    "print(fs_v)"
   ]
  },
  {
   "cell_type": "code",
   "execution_count": null,
   "id": "f71d6f68-8f4d-42cb-b874-9b4c2eb576b8",
   "metadata": {},
   "outputs": [],
   "source": []
  }
 ],
 "metadata": {
  "kernelspec": {
   "display_name": "Python 3 (ipykernel)",
   "language": "python",
   "name": "python3"
  },
  "language_info": {
   "codemirror_mode": {
    "name": "ipython",
    "version": 3
   },
   "file_extension": ".py",
   "mimetype": "text/x-python",
   "name": "python",
   "nbconvert_exporter": "python",
   "pygments_lexer": "ipython3",
   "version": "3.10.6"
  }
 },
 "nbformat": 4,
 "nbformat_minor": 5
}
